{
 "cells": [
  {
   "cell_type": "code",
   "execution_count": 1,
   "metadata": {},
   "outputs": [],
   "source": [
    "from ultralytics import YOLO\n",
    "import os  \n",
    "import pandas as pd  \n",
    "import numpy as np  \n",
    "import cv2  \n",
    "import matplotlib.pyplot as plt  \n",
    "import seaborn as sns  \n",
    "from sklearn.model_selection import train_test_split \n",
    "from glob import glob  \n",
    " \n",
    "from PIL import Image\n",
    "\n",
    "\n",
    "import warnings\n",
    "warnings.filterwarnings(\"ignore\", \"use_inf_as_na option is deprecated\")"
   ]
  },
  {
   "cell_type": "code",
   "execution_count": null,
   "metadata": {},
   "outputs": [],
   "source": [
    "\n",
    "# Create necessary directories\n",
    "!mkdir -p \"/content/kaggle/working/data\"\n",
    "!mkdir -p \"/content/kaggle/working/data/images\"\n",
    "!mkdir -p \"/content/kaggle/working/data/images/train\"\n",
    "!mkdir -p \"/content/kaggle/working/data/images/val\"\n",
    "!mkdir -p \"/content/kaggle/working/data/labels\"\n",
    "!mkdir -p \"/content/kaggle/working/data/labels/train\"\n",
    "!mkdir -p \"/content/kaggle/working/data/labels/val\"\n",
    "\n",
    "root_dir = \"/content/kaggle/working/data\"\n",
    "labels_dir = \"/content/kaggle/working/data/labels\"\n",
    "images_dir = \"/content/kaggle/working/data/images\""
   ]
  },
  {
   "cell_type": "code",
   "execution_count": null,
   "metadata": {},
   "outputs": [],
   "source": [
    "train_data = \"/content/data/training_data\"\n",
    "csv_data = \"/content/data/train_solution_bounding_boxes (1).csv\"\n",
    "test_data = \"/content/data/testing_data\""
   ]
  },
  {
   "cell_type": "code",
   "execution_count": null,
   "metadata": {},
   "outputs": [],
   "source": [
    "df = pd.read_csv(csv_data)\n",
    "df.head()"
   ]
  },
  {
   "cell_type": "code",
   "execution_count": 6,
   "metadata": {},
   "outputs": [],
   "source": [
    "# Prepare YOLO format annotations\n",
    "def create_yolo_annotation(row, img_width, img_height):\n",
    "    x_center = ((row['xmin'] + row['xmax']) / 2) / img_width\n",
    "    y_center = ((row['ymin'] + row['ymax']) / 2) / img_height\n",
    "    width = (row['xmax'] - row['xmin']) / img_width\n",
    "    height = (row['ymax'] - row['ymin']) / img_height\n",
    "    return f\"0 {x_center} {y_center} {width} {height}\""
   ]
  },
  {
   "cell_type": "code",
   "execution_count": 11,
   "metadata": {},
   "outputs": [],
   "source": [
    "# Create YOLO annotations and copy images\n",
    "for img_name in df['image'].unique():\n",
    "    img_df = df[df['image'] == img_name]\n",
    "    img_path = os.path.join(train_data, img_name)\n",
    "    img = cv2.imread(img_path)\n",
    "    if img is not None:\n",
    "        img_height, img_width = img.shape[:2]\n",
    "        \n",
    "        # Decide whether to put in train or val folder\n",
    "        if np.random.rand() < 0.8:  # 80% train, 20% val\n",
    "            subset = \"train\"\n",
    "        else:\n",
    "            subset = \"val\"\n",
    "        \n",
    "        # Copy image\n",
    "        dst_img_path = os.path.join(images_dir, subset, img_name)\n",
    "        cv2.imwrite(dst_img_path, img)\n",
    "        \n",
    "        # Create annotation file\n",
    "        annotation_path = os.path.join(labels_dir, subset, f\"{img_name.split('.')[0]}.txt\")\n",
    "        with open(annotation_path, 'w') as f:\n",
    "            for _, row in img_df.iterrows():\n",
    "                yolo_annotation = create_yolo_annotation(row, img_width, img_height)\n",
    "                f.write(yolo_annotation + '\\n')"
   ]
  },
  {
   "cell_type": "code",
   "execution_count": null,
   "metadata": {},
   "outputs": [],
   "source": [
    "# Create YAML configuration file\n",
    "yaml_content = f\"\"\"\n",
    "path: {root_dir}\n",
    "train: images/train\n",
    "val: images/val\n",
    "\n",
    "nc: 1\n",
    "names: ['car']\n",
    "\"\"\"\n",
    "\n",
    "with open('car_detection.yaml', 'w') as f:\n",
    "    f.write(yaml_content)\n",
    "\n",
    "print(\"YAML configuration file created.\")"
   ]
  },
  {
   "cell_type": "code",
   "execution_count": null,
   "metadata": {},
   "outputs": [],
   "source": [
    "model = YOLO('yolov8n.pt')"
   ]
  },
  {
   "cell_type": "code",
   "execution_count": 14,
   "metadata": {},
   "outputs": [],
   "source": [
    "# Disable W&B logging to avoid the API key prompt\n",
    "os.environ[\"WANDB_MODE\"] = \"disabled\""
   ]
  },
  {
   "cell_type": "code",
   "execution_count": null,
   "metadata": {},
   "outputs": [],
   "source": [
    "results = model.train(\n",
    "    data='car_detection.yaml',\n",
    "    epochs=30,\n",
    "    imgsz=640,\n",
    "    batch=16,\n",
    "    name='car_detection_model',\n",
    "    device='cuda'\n",
    ")"
   ]
  },
  {
   "cell_type": "code",
   "execution_count": null,
   "metadata": {},
   "outputs": [],
   "source": [
    "# Model Evaluation\n",
    "results = model.val()\n",
    "print(results)"
   ]
  },
  {
   "cell_type": "code",
   "execution_count": null,
   "metadata": {},
   "outputs": [],
   "source": [
    "# Test on a sample image from the test set\n",
    "sample_test_image = os.path.join(test_data, os.listdir(test_data)[0])\n",
    "\n",
    "# Perform inference on the sample image\n",
    "test_results = model(sample_test_image)\n",
    "\n",
    "# Display the first result using 'plot' or similar method\n",
    "test_results[0].plot()  # This should display the image with predictions"
   ]
  }
 ],
 "metadata": {
  "kernelspec": {
   "display_name": "Python 3",
   "language": "python",
   "name": "python3"
  },
  "language_info": {
   "codemirror_mode": {
    "name": "ipython",
    "version": 3
   },
   "file_extension": ".py",
   "mimetype": "text/x-python",
   "name": "python",
   "nbconvert_exporter": "python",
   "pygments_lexer": "ipython3",
   "version": "3.11.4"
  }
 },
 "nbformat": 4,
 "nbformat_minor": 2
}
